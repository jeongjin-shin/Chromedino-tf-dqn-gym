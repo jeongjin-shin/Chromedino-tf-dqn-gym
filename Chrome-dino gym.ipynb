{
 "cells": [
  {
   "cell_type": "code",
   "execution_count": 3,
   "metadata": {},
   "outputs": [],
   "source": [
    "import gym\n",
    "import gym_chrome_dino\n",
    "import numpy as np\n",
    "import tensorflow as tf\n",
    "import matplotlib.pyplot as plt\n",
    "from tensorflow import keras\n",
    "from tensorflow.keras.layers import *\n",
    "import cv2\n",
  },
    "import random\n",
    "from gym_chrome_dino.utils.wrappers import make_dino"
   ]
  },
  {
   "cell_type": "code",
   "execution_count": 96,
   "metadata": {},
   "outputs": [
    {
     "data": {
      "text/plain": [
       "<matplotlib.image.AxesImage at 0x1ba3feb4df0>"
      ]
     },
     "execution_count": 96,
     "metadata": {},
     "output_type": "execute_result"
    },
    {
     "data": {
      "image/png": "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\n",
      "text/plain": [
       "<Figure size 432x288 with 1 Axes>"
      ]
     },
     "metadata": {
      "needs_background": "light"
     },
     "output_type": "display_data"
    }
   ],
   "source": [
    "plt.imshow(screen)"
   ]
  },
  {
   "cell_type": "code",
   "execution_count": 97,
   "metadata": {},
   "outputs": [
    {
     "data": {
      "text/plain": [
       "<matplotlib.image.AxesImage at 0x1ba40c874f0>"
      ]
     },
     "execution_count": 97,
     "metadata": {},
     "output_type": "execute_result"
    },
    {
     "data": {
      "image/png": "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\n",
      "text/plain": [
       "<Figure size 432x288 with 1 Axes>"
      ]
     },
     "metadata": {
      "needs_background": "light"
     },
     "output_type": "display_data"
    }
   ],
   "source": [
    "screen = cv2.resize(screen,(0,0),fx = 0.15,fy = 0.15, interpolation = cv2.INTER_AREA)\n",
    "screen = cv2.Canny(screen,100,200)/255\n",
    "plt.imshow(screen)"
   ]
  },
  {
   "cell_type": "code",
   "execution_count": 8,
   "metadata": {},
   "outputs": [],
   "source": [
    "def imgpreprocessing(x):\n",
    "    screen = np.array(x)\n",
    "    screen = cv2.resize(screen,(0,0),fx = 0.3,fy = 0.3, interpolation = cv2.INTER_AREA)\n",
    "    screen = cv2.Canny(screen,100,200)/255\n",
    "    screen = screen.reshape(1,24,48,1)\n",
    "    return screen"
   ]
  },
  {
   "cell_type": "code",
   "execution_count": 9,
   "metadata": {},
   "outputs": [],
   "source": [
    "model = keras.models.Sequential()\n",
    "\n",
    "model.add(Conv2D(32,(2,2),strides=(2,2),padding='same',activation = 'relu'))\n",
    "model.add(Conv2D(64,(4,4),strides=(2,2),padding= 'same',activation = 'relu'))\n",
    "model.add(Conv2D(64,(3,3),strides=(1,1),padding= 'same',activation = 'relu'))\n",
    "model.add(Flatten())\n",
    "model.add(Dense(512,activation='relu'))\n",
    "model.add(Dense(128,activation='relu'))\n",
    "model.add(Dense(64,activation = 'relu'))\n",
    "model.add(Dense(16,activation = 'relu'))\n",
    "model.add(Dense(3))"
   ]
  },
  {
   "cell_type": "code",
   "execution_count": 10,
   "metadata": {},
   "outputs": [],
   "source": [
    "model.compile(optimizer = 'adam',loss = 'mean_squared_error',metrics =['accuracy'])"
   ]
  },
  {
   "cell_type": "code",
   "execution_count": null,
   "metadata": {
    "scrolled": true
   },
   "outputs": [],
   "source": [
    "env  = gym.make('ChromeDino-v0')"
   ]
  },
  {
   "cell_type": "code",
   "execution_count": null,
   "metadata": {
    "scrolled": true
   },
   "outputs": [],
   "source": [
    "done = 0\n",
    "discount = 0.9\n",
    "\n",
    "max_episodes = 1000\n",
    "\n",
    "state_list = list()\n",
    "q_list = list()\n",
    "\n",
    "score_list = list()\n",
    "\n",
    "replay_mem = list()\n",
    "\n",
    "replay_size = 32\n",
    "rr = 10\n",
    "replay_limit = 2048\n",
    "\n",
    "isrand = 0\n",
    "\n",
    "e = 0\n",
    "\n",
    "env = make_dino(env, timer = True, frame_stack = True)\n",
    "done =True\n",
    "for episode in range(max_episodes):\n",
    "    print(episode,e)\n",
    "    state_list = list()\n",
    "    q_list = list()\n",
    "    screen = env.reset()\n",
    "    state = imgpreprocessing(screen)\n",
    "    done = 0\n",
    "    while not done:\n",
    "        e = 1 / ((episode / 7) + 1)\n",
    "        q = model.predict(state)\n",
    "        \n",
    "        if np.random.rand(1)<e:\n",
    "            action = env.action_space.sample()\n",
    "            isrand = 1\n",
    "        else:\n",
    "            action = np.argmax(q)\n",
    "            isrand = 0\n",
    "            \n",
    "        print(q,np.argmax(q),isrand,action)\n",
    "        \n",
    "        screen_next,reward,done,_ = env.step(action)\n",
    "        state_next = imgpreprocessing(screen_next)\n",
    "        \n",
    "        if done:\n",
    "            reward = -10\n",
    "            score_list.append(env.unwrapped.game.get_score())\n",
    "        else:\n",
    "            reward = 1\n",
    "        replay_mem.append([state,state_next,action,reward,done])\n",
    "        if len(replay_mem)>replay_limit:\n",
    "            del replay_mem[0]\n",
    "        \n",
    "        state_list = list()\n",
    "        q_list = list()\n",
    "        \n",
    "        if len(replay_mem)< rr:\n",
    "            replay_size = len(replay_mem)\n",
    "        else:\n",
    "            replay_size = rr\n",
    "        for sample in random.sample(replay_mem,replay_size):\n",
    "            state, state_next, action, reward, done = sample\n",
    "            if done:\n",
    "                q[0,action] == reward\n",
    "            else:\n",
    "                q_next = model.predict(state_next)\n",
    "                q[0,action] == reward + discount*np.max(q_next)\n",
    "            state_a = state.reshape(24,48,1)\n",
    "            state_list.append(state_a)\n",
    "            q_a = q.reshape(3)\n",
    "            q_list.append(q_a)\n",
    "        state_list = np.array(state_list)\n",
    "        q_list = np.array(q_list)\n",
    "        hist = model.fit(state_list,q_list,epochs = 30, verbose =0)\n",
    "        state = state_next"
   ]
  },
  {
   "cell_type": "code",
   "execution_count": 17,
   "metadata": {},
   "outputs": [
    {
     "data": {
      "text/plain": [
       "[<matplotlib.lines.Line2D at 0x117112854c0>]"
      ]
     },
     "execution_count": 17,
     "metadata": {},
     "output_type": "execute_result"
    },
    {
     "data": {
      "image/png": "iVBORw0KGgoAAAANSUhEUgAAAX0AAAD4CAYAAAAAczaOAAAABHNCSVQICAgIfAhkiAAAAAlwSFlzAAALEgAACxIB0t1+/AAAADh0RVh0U29mdHdhcmUAbWF0cGxvdGxpYiB2ZXJzaW9uMy4yLjIsIGh0dHA6Ly9tYXRwbG90bGliLm9yZy+WH4yJAAAgAElEQVR4nO3deZhU9Zno8e9bSy8gqzQIjYgLIrhAa0s0RqPGGERFyHOT0WxmJjNk7k1mMvPMTEZv7r2Z3Geee2dJJsskkxvjmMlMFjOTscG4QjTEmMQF7EZBQBBQ6Qa6AZG1umt57x/nnOrqqlNdSzdVdarfz/PwVNWpOs2vq6veeuv3e3+/n6gqxhhjxoZQtRtgjDGmcizoG2PMGGJB3xhjxhAL+sYYM4ZY0DfGmDEkUu0G+Jk2bZrOnTu32s0wxpjA2Lhx40FVbSn0uJoM+nPnzmXDhg3VboYxxgSGiLxRzOOse8cYY8YQC/rGGDOGWNA3xpgxxIK+McaMIRb0jTFmDCkq6IvIZBH5qYhsE5GtInK1iEwVkXUissO9nJLn3KUisl1EdorIPaPbfGOMMaUoNtP/OvCEql4ELAK2AvcAT6nqPOAp9/YQIhIGvgXcAiwE7hKRhaPRcGOMMaUrGPRFZCJwHfDPAKo6oKpHgDuA77sP+z6wwuf0JcBOVd2lqgPAg+55xpgyqCr/seEtYvFktZtiAqqYTP88oA/4noh0isj9IjIemKGq+wDcy+k+57YCb2Xc3useyyEiq0Rkg4hs6OvrK+mXMGaseO3Acf7ipy+zfru9R0x5ign6EeBy4Nuq2gacwKcrJw/xOea7a4uq3qeq7ara3tJScCaxMWOSl+H3JyzTN+UpJujvBfaq6vPu7Z/ifAgcEJGZAO5lb55zz864PRvoKb+5xoxtiVQKgHjSdrwz5SkY9FV1P/CWiMx3D70PeBV4GLjbPXY3sMbn9BeBeSJyrog0AHe65xljyjCQcIJ9PJmqcktMUBW74NofAT90A/cu4HdxPjD+XUQ+BbwJfAhARGYB96vqMlVNiMhngSeBMPCAqm4Z7V/CmLHCy/QTFvRNmYoK+qraBbT73PU+n8f2AMsybj8GPFZuA40xgxJJL9O37h1THpuRa0yADCS9Pn3L9E15LOgbEyBepp9IWaZvymNB35gA8TL8gYRl+qY8FvSNCRAv6HsDusaUyoK+MQHideskbCDXlMmCvjEBku7esYFcUyYL+sYEiFeqaZm+KZcFfWMCJG4lm2aELOgbEyCJpK29Y0bGgr4xATKQtLV3zMhY0DcmQBJWsmlGyIK+MQHilWxa944plwV9YwLEm4lr3TumXBb0jQmQwaWVLdM35bGgb0yAxN1NVGxylimXBX1jAiRum6iYEbKgb0yA2NLKZqQs6BsTILa0shkpC/rGBEjcMn0zQkXtkSsie4BjQBJIqGq7iPwEmO8+ZDJwRFUXF3PuKLTbmDHJ1t4xI1VU0HfdoKoHvRuq+jvedRH5CvBOsecaY8pjJZtmpEoJ+r5ERIAPAzeOvDnGmOFYyaYZqWL79BVYKyIbRWRV1n3XAgdUdUcZ56aJyCoR2SAiG/r6+opsljFji5VsmpEqNtO/RlV7RGQ6sE5EtqnqM+59dwE/LvPcNFW9D7gPoL293b67GuMjYZuomBEqKtNX1R73shfoAJYAiEgE+CDwk1LPNcaUzrZLNCNVMOiLyHgRmeBdB24GNrt33wRsU9W9ZZxrjClRPL20smX6pjzFdO/MADqc8VoiwI9U9Qn3vjvJ6toRkVnA/aq6rMC5xpgSeXX6yZSSSimhkFS5RSZoCgZ9Vd0FLMpz3yd9jvUAywqda4wpXeYAbjyVojEUrmJrTBDZjFxjAmQgYwDXNlIx5bCgb0yAZG6TaGWbphwW9I0JkERSaYw4b1vL9E05LOgbEyADyRTjGpx+fFt/x5TDgr4xAZJIphjXEHGvW6ZvSmdB35iASKaUlEKzm+nbBC1TDgv6xgSE153THHWCfuagrjHFsqBvTEB4s3C9TN+6d0w5LOgbExBxd4vEcda9Y0bAgr4xAeEtqzzOMn0zAhb0jQkIry6/ORpxb1umb0pnQd+YgPBm4DY3eJOzLOib0lnQNyYgvCDv1enbjFxTDgv6xgTEYPeO16dvmb4pnQV9YwLCG7hNL8NgG6mYMljQNyYgBpJDq3e8Ek5jSmFB35iAGBzIddfesRm5pgwW9I0JiHhW986ADeSaMhQV9EVkj4i8IiJdIrLBPfZXItLtHusSkWV5zl0qIttFZKeI3DOajTdmLPEmZ9lArhmJYjZG99ygqgezjn1VVb+c7wQRCQPfAt4P7AVeFJGHVfXV0ptqzNjmDeTa2jtmJE53984SYKeq7lLVAeBB4I7T/H8aU5fiSVt7x4xcsUFfgbUislFEVmUc/6yIvCwiD4jIFJ/zWoG3Mm7vdY/lEJFVIrJBRDb09fUV2Sxjxo6cpZUt0zdlKDboX6OqlwO3AJ8RkeuAbwPnA4uBfcBXfM4Tn2O+r1RVvU9V21W1vaWlpchmGTN2eAO5jZEwIbFlGEx5igr6qtrjXvYCHcASVT2gqklVTQHfxenKybYXODvj9mygZ2RNNmZs8gZuoxEhGg6lB3aNKUXBoC8i40VkgncduBnYLCIzMx62Etjsc/qLwDwROVdEGoA7gYdH3mxjxh4vs4+EQk7QT1j3jildMdU7M4AOEfEe/yNVfUJE/k1EFuN01+wBPg0gIrOA+1V1maomROSzwJNAGHhAVbecht/DmLrnde9Ew0IkLDY5y5SlYNBX1V3AIp/jH8/z+B5gWcbtx4DHRtBGYwyDM3CjYTfTt4FcUwabkWtMQHhBPhIWoiGxgVxTFgv6xgSEF+SjoRDRSMhm5JqyWNA3JiDiyRThkBAKCZGQWPeOKYsFfWMCIpFUIiFn6ovTp2+ZvimdBX1jAiKeVBrCzls2Gg6RsE1UTBks6BsTEPFkikjYyfQjYRvINeWxoG9MQCRSKaIZmb4FfVMOC/rGBMRAQjOCvg3kmvJY0DcmIJxMf3Ag10o2TTks6BsTEE6fvvOWjYRCtl2iKYsFfWMCIj6kZFMs0zdlsaBvTEAkkikaIlayaUbGgr4xAZGZ6UfCwkDCMn1TOgv6xgREPDlYstkQDtnSyqYsFvSNCYjMoB+xkk1TJgv6deLZHQdZu2V/tZthTqNESoeUbNrkrOo6fGKAr/98B6mAja1Y0K8T33nmdb7x9I5qN8OcRgOJwZJNC/rV94ttvXz156+x6+CJajelJBb068SpgSSxuAWBepaZ6UdCQsK6d6oqlkg6l/FklVtSmmL2yEVE9gDHgCSQUNV2Efl74HZgAHgd+F1VPVLMuaPTdJMplkgG7sVnSpNIDl17J5FSVBV3/2pTYV6S1Z8I1vuulEz/BlVdnBG01wGXqOplwGvAvSWca0ZZLJ6yTL/OOSWbg2vveMdMdfSnM/1gve/K7t5R1bWqmnBvPgfMHp0mmXI43TvByjhMaeLJFA2RwYFcwMo2q8gL9qcGgvW+KzboK7BWRDaKyCqf+38PeLzMc80o6LfunboXT6bSmb43oBtPWKZfLelMP2DdO0X16QPXqGqPiEwH1onINlV9BkBEvgAkgB+Wem4m9wNhFcCcOXNK/kXGulg8RSKlJDIW5TL1JZHU9CYq6e4dy/Srpt/N9Ouye0dVe9zLXqADWAIgIncDtwEfVVXflCPfuT6Pu09V21W1vaWlpdTfY8zzsvyYTc2vW/FUash2iYBV8FRRf0CrdwoGfREZLyITvOvAzcBmEVkK/CWwXFVPlnLuaDXeOOLJVHrxraC9AE3x4hmZvrcGj9XqV89gph+s91wx3TszgA63LCwC/EhVnxCRnUAjTpcNwHOq+ociMgu4X1WX5Tv3NPweY1rmiy5og0qmOKmUkkwN7pzlrbZpQb96+hN1GvRVdRewyOf4BXke3wMsG+5cM7oy+xSDVjNsiuP13UczNlEBK9mspnSXaj326ZvalplpBO0FaIrj9d1HswdyLdOvmqBm+hb060Bmdh+0F6ApjhfcBydnWfdOtQ0WTwTrPWdBvw6cGhh845+yoF+X4lmZvjega7tnVY+X6We+/4LAgn4diCWse6feJbL69C3Tr76gTs6yoF8HhvbpB+sFaIrjzbwdXFrZ1t6ptvSCawF7z1nQrwOZ2b0F/fo0WL2TtfaOZfpVM+YWXDO1Y0imbzNy65LXjZNbsml/72qJBXRylgX9OpA5eBuzyVl1ySvZ9GbiWvdO9XmZftCKJyzo14F+69Ove+lMP5K19o4tuFYVqmp1+qZ6hvTpB6ySwBQnXbKZXlrZzfRtaeWqGEim8JaYtD59U3FeptEUDQXuBWiKk0gOHcj1Vtu0pZWroz8R3KVPLOjXgVPxJOGQcEZjJHD9i6Y4A96MXG8gN72JigX9avBW2GyMhAK3yKEF/ToQi6doioRojIQD179oiuMN5DZk1enbjNzq8N5nk8dFA1cxZ0G/DsQSSZobwjQ3hNMZiKkv6bV3sur0B6xksyq87p3JzQ0kUxqo0lkL+nUgFk/SGAm7ffqW6dejeCpr7R23dNN2zqoO7302qTk65HYQWNCvA/3xFE3REE2RsFXv1KlE1uSscEgQsRm51eJl+pPGeUE/OH8HC/p14FQ8SVM0TFM0HLhBJVOceNZArogQDYUYsEy/KryKHcv0TVXE4kma3aAfpIzDFC97aWXvumX61eGNnVnQN1URS2f6IeveqVPpGbmhwbdsJBwK1ABiPfEy/cnNddq9IyJ7ROQVEekSkQ3usakisk5EdriXU/Kcu1REtovIThG5ZzQbbxwxr08/atU79Sq9XWJk8C0bDYfSA7ymstLVO16ffoCSrVIy/RtUdbGqtru37wGeUtV5wFPu7SFEJAx8C7gFWAjcJSILR9hmkyUWT9LoZvo2Oas+pSdnhYZ279jkrOpIV++MawAI1FjaSLp37gC+717/PrDC5zFLgJ2quktVB4AH3fPMKIrFkzRFwk71jgX9ujS4MXpm947Y5KwqSVfv1HGfvgJrRWSjiKxyj81Q1X0A7uV0n/Nagbcybu91j+UQkVUiskFENvT19RXZLAPOGvrNDSGaG5ygr2qBoN4kUilC4pRqeqLWp181OXX6AfrGFSnycdeoao+ITAfWici2Is8Tn2O+EUlV7wPuA2hvb7eoVYJ0ph8Nk1Kn0qMh4vfUm6AaSKbS5ZqeaMiCfrV4Y2eT6zXTV9Ue97IX6MDptjkgIjMB3Mten1P3Amdn3J4N9IykwWYoVU1X7zS6g3xBGlQyxUkkNb3ujicaEZuRWyX9iZSzyGGTkzcHaZ/cgkFfRMaLyATvOnAzsBl4GLjbfdjdwBqf018E5onIuSLSANzpnmdGyUAyRUpJV++A7Z5Vj+LJVHrdHU8kFLK1d6rEWfpk8D0XpAKKYrp3ZgAdIuI9/keq+oSIvAj8u4h8CngT+BCAiMwC7lfVZaqaEJHPAk8CYeABVd1yOn6RscqrD/Zm5GYeM/UjntT0vrgeZ3KWZfrV0J9IOUHf+3YdoPdcwaCvqruART7HDwHv8zneAyzLuP0Y8NjImmny6U9voBKm2Qv61r1TdxLJFA1Zmb4N5FZPf8LpUo2EQ0TDUn99+qZ2Dc30vawjOC9AU5y4z0BuJGxr71RLLJ5Kj6E5pdLB+fC1oB9wpzK2Skz3L1qfft2Jp3TIujsADbb2TtV4mT5AYzQcqD59C/oBl94fN5KR6QeoZtgUJ55IDZmYBc5ArnXvVMeQTD8aqq/qHVPbvKDf3JA5kBucF6ApTiKlOUE/GgnZQG6V9CecjYvA6VoN0jiaBf2A87L6ISWbFvTrjl/JZjQkVrJZJf2JFI3uN+vmgC1pbkE/4LwA3xgZzPRtpc36E0+mhiyrDO7aO5bpV4XTveNl+sHaptSCfsDFMko2vZrhIA0qmeIkkko0kluymUjZB3w19CeS6Uy/yQZyTSXFfKp3gpR1mOLEkymfyVkhBmzQvir64yma3Ey/0Uo2TSV5L7Zmm5Fb1+JJn4FcW1q5aoZm+la9Yyoos3snHBIawrZlYj2KJ1M5dfq2XWL1ZGb6zkBucN5zFvQD7lRG0AdojIZsclYd8i3ZDIeIJ9X2T6iCmPXpm2qJxZ0M0NtcoykaTm/abOpHvpJNgKR18VRUMqXEkzpkclaQulQt6Aect4GKJ2gvQFMc/5LNkHufBf1KGkgMrnflXcYSwdmxzoJ+wPUnkjQ1DAb9oPUvmuL4l2w6t+NWtllRg3NjBrt3VAnMRDkL+gEXi6fSa+6Am3VY0K87A3lKNsFZl8dUjrcpeuYyDBCcqjkL+gF3aiCreycSrEElU5xEUmmI+Ad9K9usrMy5MZmXQUm2LOgHXCxjiVdwqneCknGY4jmTs7JLNp3bNkGrsnIy/UiwJkVa0A+4WDyZ3jELrE+/HqkqiZTmbKLi9elbpl9ZXnVcU0bJJgSne6eYPXIBEJEwsAHoVtXbROQnwHz37snAEVVd7HPeHuAYkAQSqto+4labtFg8xYSmwT+jU7IZjBefKY4X1P22SwRsI5UK84K7l+k3NwSre6fooA98DtgKTARQ1d/x7hCRrwDvDHPuDap6sKwWmmHF4klaJjSmbzfZ5Ky64826zdku0R3YDUrVSL3wMv305Cw3+AdlLK2o7h0RmQ3cCtzvc58AHwZ+PLpNM8WIxYf26QdtQwdTmFeHnz0jt8Et4bTllSvLW7o8veBawBY6LLZP/2vA5wG/lOJa4ICq7shzrgJrRWSjiKwqo41mGLF4Kr2kMljJZj3yMv2ctXdCoSH3m8qIZWf66eqdYPwdCgZ9EbkN6FXVjXkechfDZ/nXqOrlwC3AZ0Tkujz/zyoR2SAiG/r6+go1y7hiiSTNDVmZfjwVmNmBprBEnkw/ajNyq6I/3ac/uHMWEJjlT4rJ9K8BlrsDsg8CN4rIDwBEJAJ8EPhJvpNVtce97AU6gCV5HnefqrarantLS0tJv8RYltu94/xJbTC3fqT79EP+M3JtI5XKiiWGLnIYtH0sCgZ9Vb1XVWer6lzgTuBpVf2Ye/dNwDZV3et3roiMF5EJ3nXgZmDzqLTcoKq53TsBqxk2hQ127+Rbe8eCfiVlZ/pe0A9KAcVI6/TvJKtrR0Rmichj7s0ZwLMisgl4AXhUVZ8Y4f9pXOlJIlkDuRCc/kVTmFey6beJClj3TqX15yy45vbpB+TbdSklm6jqemB9xu1P+jymB1jmXt8FLBpJA01+say19J3rwaoZNoV5M25zlla2TL8qvPdWQ3hoyWZQ3nM2IzfAMrdK9HjXrWyzfgxOzsqz9o5l+hXVn0jREA4RcsdYQiGhIRKc5U8s6AfYqayFn5zrwepfNIUNTs7KLtl0196xTL+iMvfH9TRFQpbpm9PPr3unMWA1w6awfAO53qqblulXViyeSi/B4AnS/BgL+gGWvcSrc926d+rNYJ2+f6ZvJZuV1Z9Ipit3PBb0TUV42XyTT59+f0BegKawwTp9/5JNW1q5svqzNi6CYG1TakE/wLIniWReD8oL0BSWd+0d20SlKpxMf2j3TnOA1ryyoB9gMXewNntjdAjOin+msLxr73h1+pbpV1R/IjfTb4yGA1M8YUE/wGIJnz79gNUMm8K8PvucGbkhb2N0y/QrKRbPzfSd1W2D8eFrQT/A/Pr0rXun/sQTTlDPLtkUEaJhsclZFdafSPmWbAZlHM2CfoB52Xzm5CyvqsAy/foRz5PpgzO4aztnVVZ/PDWkSxWgucGqd0wF+GX6oZDQGAkFZlDJFJZvaWXnmNjaOxUW852cFQ7Mt2sL+gHmDdb61gwHZFDJFJZvRi44HwTWvVNZ/fGUz3suFJjiCQv6AdYfT9IQGVwDxBOkmmFTmJfJZ6+9A07Qtxm5lRVLDN3DAmxylqmQWDw5ZC19j+2TW1/ybaICTvZvmX5l+WX6jdEw/Ylg7FhnQT/AYvHUkK0SPc0ByjpMYYlkChEI+wT9hnDISjYrSFXp98n0B7dMrP0PYAv6AXYqnvviA3eiiHXv1I14SomGQoj4Z/pWvVM58aSSUr9xNHdSZADG0izoB5jTvZMb9IO0zKspLJ5I+Q7iglOyad07leNtfu43OQuCsdChBf0Ai/lMBwfnBRiUiSKmsERKfcs1AaKRkJVsVtDgVon+mX4QCigs6AdYLE/3jtOnX/svPlOcgWQqZ90dTzRkA7mVFIvnyfQDtPxJ0UFfRMIi0ikij7i3/0pEukWky/23LM95S0Vku4jsFJF7RqvhxinZ9Av6TVGbnFVPEslU/kzfSjYrysv0cyZnNdRh0Ac+B2zNOvZVVV3s/nss+wQRCQPfAm4BFgJ3icjCsltrhnAGcv27d4IwoGSKE09q/j79sNh2iRVUKNMPwgStooK+iMwGbgXuL/HnLwF2quouVR0AHgTuKPFnmDxi8VSeTN9KNutJfJhMvyEcsp2zKihvpu/e7g9At2qxmf7XgM8D2b/RZ0XkZRF5QESm+JzXCryVcXuveyyHiKwSkQ0isqGvr6/IZo1t+ap3GqOhwCzzagpLJJ2STT9OyaZ171SKF9Sz33eDq9vWfrJVMOiLyG1Ar6puzLrr28D5wGJgH/AVv9N9jvm+QlX1PlVtV9X2lpaWQs0yOC+wfJOzBhIpUjZppy7Ek8OUbIZD1r1TQd5YWXam31xnJZvXAMtFZA9O98yNIvIDVT2gqklVTQHfxenKybYXODvj9mygZ4RtNq5YPHddbwhWzbApLD5MyWaDDeRWlJfp+y1yCHBqoPY/gAsGfVW9V1Vnq+pc4E7gaVX9mIjMzHjYSmCzz+kvAvNE5FwRaXDPf3gU2j3mJVPKQDJ3XW8gvR6PlW3Wh3gif8lmxEo2K6rfZ19q53Zw9rGIjODcvxORxTjdNXuATwOIyCzgflVdpqoJEfks8CQQBh5Q1S0jbLMh/4sv81gQXoCmsERqmJJNm5xVUYUy/SB8uy4p6KvqemC9e/3jeR7TAyzLuP0YkFPOaUZmcAOVYbp3LOjXhXhSaW7IE/RDYtU7FZRvGYbGAH27thm5AeW3VaLH9smtL/FkiqjPCpvgDOTGrVKrYvIlWyJCUzQY++Ra0A8obxJIvhm5mY8xwZZIDrP2ji2tXFH5Mn1wJ0UG4D1nQT+gYumgn797JwhZhylsuJLNqG2iUlH9iRQhwXdg3dknt/bfcxb0A8r7mtk4XPdOAAaVTGHxVMp3q0RwMn1Vp5rLnH6xeJLGSNh3b4OgbFNqQT+g+ofp02+2Pv26Ek8Mv/YOYNl+hfQn/OfGQHCWP7GgH1BF9enbomt1YbiSTe8bgAX9ysi39AlYn745zYoq2bTunboQH2Yg19ss3WblVsbwmX6orhZcMzUmPZDrOyPXunfqSTyZSgf3bBHL9CuqP57KmZjlaYqGA5FoWdAPqNgwM3IbAzQl3BSWSCrRPIEm3b1jA7kVEUv4b1wEVr1jTjMvi/cbyG2MhBCxks16oOqssZR/cpY7kGsTtCpiuEy/uSEY25Ra0A+o9A4+Pv2LIkJTJBiDSmZ4XinmcJOzAFuKoUL6h8v0o6FAvOcs6AdULJ5EJHfhJ09QaobN8LzF1CJ5g76T6Q8krHunEmLDZPqN1r1jTidnkkjId5IIBKdm2Awv7mbw+ZZWtky/svoTSd8lGMB5z1n1jjlt8u2P63EqCWr/BWiG55Vi5i3ZTFfvWKZfCfk2LgLn2/VAMlXzs6Mt6AfUqXjSdxDX0xQN2+SsOuCVYuZdeydkM3IrqT+RypvpN49wSXPVynxYjGQTlTHtjUMn+OMHu0qqkJkxsYnvfPwK3wx93asH+Oq610gV+YfvPnKKaWc05r2/KRrit68fZOnXnsn7mE9cPZePvGtOznFV5U9/0sW2/cfynhsOCV+4dQHvPn9azn3HYnFW/etG3j45kD7WGAnxlQ8v5oLpZ+T9mcXa+MZhvvjwlmEnJJ3XMp5v3nU5oTxVL5l+/MKbvHHoJPfccpHv/d98egePvLxvyLH/csVsfv/a80pruI94MsWfPNjFx646h6vPPzPn/gH321q+jdG9Us6BMr/VbXzjbb748ObTOrnrxoum8/ml/s/tl5/czs+3Hhhy7KNXncPHrzqn4M9VVf7s3zdx26KZ3HjRjJLbdeTkAKv+bSNHT8XTxxqjYb5x52LOOXO87zlO907+On2AFd/6NeE8r7tzzhzHtz96he/r8p/Wv85vXj/I9z65hIY8/8dosKBfph89/yZbut/hxoumF/X4EwMJfvlaH+u397L0kpk59//T+p30Huvn8jmTi/p5c6aO49oL828g/4mrz+HxV/bnvX/r/qN846kd3Hnl2TkvwM3dR1nd1cMV50zhzPENvue/sOcw331ml2/Qf/Tlffx21yGun9+SriNfv72PHz7/Bl+8/eJifr1h3f+r3bxx6CRXn5cbJAHePjnAY6/sZ+M1b3Pl3KnD/qxkSvmHda9x8Hg/v3vNXGZMbBpy//H+BN/8xU7OnjKOc6c5gWBn73H+8emdfOLquSN+cz674yCPvrKP4/0J36D/212HAJg3w//D8txp4wmHhOd2HeK6YV4P+Tzw7G7eOHjS9/8eDW8ePsl9z+zi9689j6lZr6UjJwf4zjOvc37LGcyZOg6AbfuP8Y2ndvCRJXPyBk7Pxjfe5qHObt44fLKsoL+mq4cXdh/mxoumpye/Pb2tlx+98Cb33rLA95z+YbpV33thC7deNjNv+eyRU3Ge3HKA53cfznm+VZX/fGkvLWc0ntaADxb0y5JMKWu6erh+/nTu+0R7Ueckkimu/pun6ejszgn6ew6eoPPNI9x7y0V8+r3nj0obV7bNZmXb7Lz3/2xTD3/0406e230oJ3B3dHbTEA7xwCevZFJz1Pf8v31iG/c9s4uDx/tzvnF0dHZzXst4vvfJK9MDzf/thxv52aYevrBsQd5KlGK8cyrOU1t7+dhV5/C/bl/o+5gT/Qna//rndHR2Fwz6v3n9IH3H+gF4uKuHP7huaPa+dst+YvEU//eDl9Lu/qz123v55PdeZP32Xm6++KyyfxdwniuAX+3oo+9YPy0Tsp7Ll7qZe+Y4Fp/tnwxMO6ORa+dNY33TkqoAABHqSURBVE1XD39+8/yivtl4jsbirNt6gI8smcNfLR/5h7GfrfuOcsvXf8WjL/fw8avnDrnv0Vf2EU8qX/7QIi5pnQTAE5v38Yc/eInfvH6Qa+cN/yHmPXcb33ibNw+dZM6Z40pqW0dnNwtmTuSBT16ZPvapf3mRNZ09/OUHLsp5LlPuvtT5Mv2508bzrY9cnvf/OzWQpP2v17G6szsn6L/S/Q67+k6wahS+PRZS9LtPRMIi0ikij7i3/15EtonIyyLSISK+r0oR2SMir4hIl4hsGK2GV9Pzuw6x/2iMlW2tRZ8TCYdYvmgWv9jWx5GMbg+A1V3diMDyxbNGu6l53bRgBmc0RljtvnE8iWSKhzf18L4F0/MGfICVba0kU8ojm3qGHO8+corndx9m5eLWIZVFKxa3cvD4AL/aeXBE7X7slX0MJFPDPvfjGyN84OIZPPryvvSmF/l0dHYzoSnCxbMm8lDWc+HdP3tKM1ecMyV97D0XTGPaGQ2s7sp9fCmO9ydY++p+rj7vTFLqfBBn6jlyiud2H2JFW2veKi1w/hbdR07xwp7DJf3/T7yyn4HE8M/lSC2YOZGLzpqQDtCZVnd2M2/6GVw8a2L62PXzpzOxKeL7+Ez9iSSPvLyPd507FRFK/lvsPniCrreOsLJt6HtuRVsr+4/GeG73oZxzBpLeelf5x9KG09wQZuklM3nslX05/f4PveQkWrdcmtsLMNpKSbk+B2zNuL0OuERVLwNeA+4d5twbVHWxqhaXFte4js5uJjRGeN+C4rp2PCvbWhlIpngso9tFVZ1P/vPOZOak5tFual7OC/AsHn9l/5AX4LM7D3LweD8rCgSCC2dMYOHMiXR0DQ1Ua9w33x2Lh55//fzpTB4XzfmQKVVHZzfnt4znktaJwz5uRVsr75yKs357X97HnBxI8OTm/dx66Uw+3H42W/cdZdv+o+n7e4/G+PXOg6zMCrqRcIjbF83i51t7eSejP7hUT252vkX8+Qcu5JLWiTmB6+FNPahSMCjfvPAsxjeES35uOzq7OW/aeC6bPanktpdiRVsrL715hDcOnUgfe+vwSV7c83bOB1pTNMytl83kyc37OTmQyPsz12/v451Tcf7r9efzrnOnsrqzu6SB0NWdbqK1aOhzmy8ZgowJkSPoflnZ1sqx/gRPb+tNH4snU/ysiERrtBTVehGZDdwK3O8dU9W1qur9VZ4D8vcl1JFTA0ke37yfWy49q+RP/ItnTeSC6WcMeUF1vXWEPYdOFgyyp4P3Anxq6+ALcHVnN5Oao1w/v3D/8Mq2Vja9dYRdfccB5wOs46Vu2s+ZkvNVuyES4tZLZ/Lklv0c78//Zh7O3rdP8sLuwzlB2I+XjXe8lD8Qrnv1ACcGkqxoa+W2y2YSDgmrOwc/xB7e1ENKcz/AwP0AT6R4/JV9OfcVq6Ozm7OnNnP5nCmsWNzKy3vfYWfv8fT9qzu7uXzO5LyDip7mhjAfuOQsHvXJIPMp9lvEaFi+aJaTjWc8t4PJQe632xWLWzkxkGTdqwdy7vOs7uxm2hkNvOeCaaxsa2XXwRNs2vtOUe1RVVZ3dfPu88/krElDx3DyJUPgVO6A/yz4Yl19/plMn9A45JvMszsPcujEwGn9xpWp2NZ/Dfg8kK9E4PeAx/Pcp8BaEdkoIqvy/QciskpENojIhr6+/NlZtf186wGO9yfKCtIiwsq2Vl7Yc5i3Dp8EnDd+YyTE0ktG1jdcjqvOO5MZExvp6NwLOH3hT245wK2XzcxblpZp+WLvzey8gLf0HGVH7/G8z83KtlZi8RRrt+QfYB7OGvdbhV8QzuZl409v6+Wdk/7ZeEdnN7MmNbFk7lTOPKOR917YwpqublJunXVHZzeXzZ7kW3F0aeskzmsZX7AbIp8DR2P8+vWD6W6w5YtmEcp4Lp1vHceKDgQr21o5Fkvwi4wMcjhrupxvESuKeC5HatbkZq4690w6OveiqqgqD3V2s+TcqcyektsPf+XcqbRObs773HrjOrcvmkUkHGLpJTNpiISK/qbjfOs4mfd395Kh7Kqi4Va2LVY4JNyxeBbrt/fy9gmnm3d1ZzeTx0W5fn5pPQflKhj0ReQ2oFdVN+a5/wtAAvhhnh9xjapeDtwCfEZErvN7kKrep6rtqtre0lJ6FUKlrO7sZuakJq46t7xqh+WLnMxmTVd3+mvdTQtnMLHp9H+tyxYOCSsWt7J+ex+HTwyw9tX9nIoniw40MyY2cc350+jo6k53U0XDwq15+iWvOGcKs6fkfzMPR1XdgdkpnD21uAG7dHfa5txsvO9YP7/acZA72lrTA3Yr2lrZ906M53cf5rUDx9jSczTvcyEirFzcyvO7D9N95FTJv8/DbtC9w/350yc2cc0F01jtfuh0dHYTCQm3XlbcOM+7z59GS1YGmY/zXO7lCp9vZKfLyrZW9hw6SddbR9KDlh/M89yG3MD4qx2Dg+yZHs8a15nUHOX9C2bws009Rc1XWF0g0fKSoewPkdHI9MEpsognlUfcqq0ntzhdjKe7asdTzP9yDbBcRPYADwI3isgPAETkbuA24KOap0NNVXvcy16gA1gyCu2uikPH+/nla30sXzyrpCqJTGdPHceSuVPp6Ozml9v7ePtknJUVyLbyWdHWSiKlPPpyDw+95A5azplS+MSM8986fIoX97zNmk1ORdOUPGWe3jedX+88SO/RWEnt3NJzlJ3DfIvwM1w2/sjLPSRTOiSov3/BDMY3hOno3Mvqzm7CIeG2YYKu941jTRkDuh2d3SyaPYnzWwa/Raxsa2Xv286A7Jqubq6f35JT5phPOCTcsWgWv8jIIPPZuu8Yrx0o7bkcqaWXnpXOxr3qsOEGLdOFAi/35Nz3kFsddmnr4FjEirZWDp0Y4NkdwxcKDCRSPPJyD+9fOIMJeRItJxsfTIY83hILxXwLHs6CmROYP2MCqzu70+M6leragSKCvqreq6qzVXUucCfwtKp+TESWAn8JLFfVk37nish4EZngXQduBjaPWusr7NFX9pHIChTlWNHWyut9J/j7J7czZVy0rPrq0eJVV/zLb/bw650HWbG4taQPtA9cPIOmaIj/uXozfcf6Cz43dyxuJaVOf3kpOgp8i/DjZeMv7D7M3reHvkRXd3azcOZELpwxIX3Mq654/JX9rO7s5tp503JKKDPNOXMc7edMoeOl0gYRt+8/xqv7juYE3Q9cfBbN0TBfXLOFA0cLD6ZnW9HWSjypPFpgnGF1l/Mt4rYKVIp4Jja52fjL+4oatJw3YwIXz5qYk22nx3WyqsPee2ELk8dFC37TeeY1N9Eq8NyuWDyYDHkG97AYWUYuIqxoa2XjG2/znWdez6kOO91G0vpvAhOAdW455v8DEJFZIvKY+5gZwLMisgl4AXhUVZ8YUYurqKOzm4vOmsBFZw1fOVLIrZfOpCEcYvuBY9x22ayKfa3Lx/sQSiklB5oJTVHev/Asth84xoSmSMHJahdMP4PLZk8qqYvHKyO9Yf50Jo8rLvP1eL/Pmowqo9f7jrNp7zu+b3yvP7fnneJKcle0tbKj9ziv7jta8LGe1V3Ot4jbFw39FjG+McLNF89wnsvGCDctKG3C0cWzJjIvq1AgmzPHpHvYb2Sny4q2Vg6fGODg8YGiXmcr21rZtPcdXu8bHNz2/o7Z5zdEQtx22UzWvjp8oUBHVzdTxzcUTLS8bDzzdTpamT4MDmC/duB4UYUJo6mkyVmquh5Y716/IM9jeoBl7vVdwKIRtbAEt//js6dtZUnFmYn535f5TycvxaRxUW68aDpPbNnPysur17XjuWPxLP72iW1c2uo/aFnIB9ta+dmmHm69dGZRFU0r21r50s9e5aZ/+CXFvNTjyRR9x/r5YBnP1dlTx3Hl3Cn80y92poPh0VicUJ55EVef7/TnHosleP/CwkH3tstm8qWfbeGT33uRyUWW2+19+xTXzZvmu4zGyrZW1nT1lFUdJiKsvLyVv3tie97nNpFSDhzt54u3V/51994LW5gyLkpKKao6bPmiWfyfx7byke8+lx7z6jlyKu+4zsq2Vn7w3Jss/dozedel2n3wBB9915y8C9h5vOfybx7fln4uT7gfJiMp2fTMmtzMVedN5bldhyteuVdXM3LPbxmfnkBxOlw2exIfuuLsUflZn7tpHhfOOIO2PDMtK2nmpGb+x60LWTBzQuEH+7h23jQ+/d7zuOvK3HV8/Hzw8tls7j7KqXjxpZvXXDCNG4pc8iLbn988n3/97Rsog10wi2ZPzllyAZz+3C8tv5jj/UnGNRR+e0we18AXli0oaWLUhWdN4A/yzLx8zwXOc3lnkc9ltjuvnMPOA8eH3av16vPPLHmOyWhoiIT433dcQkq1qGx5+sQm7rnlIrreOpI+duGMCXz8av91eS6fM4VV152X05WXacHMifzee84tqr2/0342rx04NiSRvK4pyvyzynufZPuLD1zE87sPDRnXqQSp1MpupWhvb9cNG+pi8q4xxlSEiGwsZgKsLa1sjDFjiAV9Y4wZQyzoG2PMGGJB3xhjxhAL+sYYM4ZY0DfGmDHEgr4xxowhFvSNMWYMqcnJWSLSB7xR5unTgJHtyXf61HLboLbbV8ttg9puXy23DWq7fbXcNhjavnNUteD6FjUZ9EdCRDbU6raMtdw2qO321XLboLbbV8ttg9puXy23Dcprn3XvGGPMGGJB3xhjxpB6DPr3VbsBw6jltkFtt6+W2wa13b5abhvUdvtquW1QRvvqrk/fGGNMfvWY6RtjjMnDgr4xxowhdRP0RWSpiGwXkZ0ick8NtOcBEekVkc0Zx6aKyDoR2eFeVm435KFtO1tEfiEiW0Vki4h8rsba1yQiL4jIJrd9X6ql9rltCYtIp4g8UoNt2yMir7h7V2+opfaJyGQR+amIbHNff1fXUNvmu8+Z9++oiPxJDbXvT933w2YR+bH7Pim5bXUR9EUkDHwLuAVYCNwlIgur2yr+BViadewe4ClVnQc85d6uhgTwZ6q6ALgK+Iz7fNVK+/qBG1V1EbAYWCoiV9VQ+wA+B2zNuF1LbQO4QVUXZ9Rw10r7vg48oaoX4eyfvbVW2qaq293nbDFwBXAS6KiF9olIK/DHQLuqXgKEgTvLapuqBv4fcDXwZMbte4F7a6Bdc4HNGbe3AzPd6zOB7dVuo9uWNcD7a7F9wDjgJeBdtdI+YLb7BrsReKTW/rbAHmBa1rGqtw+YCOzGLSCppbb5tPVm4Ne10j6gFXgLmIqzt/kjbhtLbltdZPoMPiGeve6xWjNDVfcBuJeV3506i4jMBdqA56mh9rndJ11AL7BOVWupfV8DPg+kMo7VStsAFFgrIhtFZJV7rBbadx7QB3zP7Rq7X0TG10jbst0J/Ni9XvX2qWo38GXgTWAf8I6qri2nbfUS9MXnmNWiFiAiZwD/CfyJqh6tdnsyqWpSna/Zs4ElInJJtdsEICK3Ab2qurHabRnGNap6OU5352dE5LpqN8gVAS4Hvq2qbcAJqt8NlkNEGoDlwH9Uuy0et6/+DuBcYBYwXkQ+Vs7Pqpegvxc4O+P2bKCnSm0ZzgERmQngXvZWqyEiEsUJ+D9U1YdqrX0eVT0CrMcZH6mF9l0DLBeRPcCDwI0i8oMaaRsAqtrjXvbi9EkvqZH27QX2ut/aAH6K8yFQC23LdAvwkqoecG/XQvtuAnarap+qxoGHgHeX07Z6CfovAvNE5Fz3U/pO4OEqt8nPw8Dd7vW7cfrSK05EBPhnYKuq/kPGXbXSvhYRmexeb8Z5wW+rhfap6r2qOltV5+K8zp5W1Y/VQtsARGS8iEzwruP0+26uhfap6n7gLRGZ7x56H/BqLbQty10Mdu1AbbTvTeAqERnnvn/fhzMIXnrbqj1gMooDHcuA14DXgS/UQHt+jNP3FsfJcD4FnIkzALjDvZxapba9B6f762Wgy/23rIbadxnQ6bZvM/C/3OM10b6Mdl7P4EBuTbQNp998k/tvi/deqKH2LQY2uH/b1cCUWmmb275xwCFgUsaxmmgf8CWc5Gcz8G9AYzlts2UYjDFmDKmX7h1jjDFFsKBvjDFjiAV9Y4wZQyzoG2PMGGJB3xhjxhAL+sYYM4ZY0DfGmDHk/wOf67O9hgD82wAAAABJRU5ErkJggg==\n",
      "text/plain": [
       "<Figure size 432x288 with 1 Axes>"
      ]
     },
     "metadata": {
      "needs_background": "light"
     },
     "output_type": "display_data"
    }
   ],
   "source": [
    "plt.plot(np.arange(len(score_list)),score_list)"
   ]
  }
 ],
 "metadata": {
  "kernelspec": {
   "display_name": "Python 3",
   "language": "python",
   "name": "python3"
  },
  "language_info": {
   "codemirror_mode": {
    "name": "ipython",
    "version": 3
   },
   "file_extension": ".py",
   "mimetype": "text/x-python",
   "name": "python",
   "nbconvert_exporter": "python",
   "pygments_lexer": "ipython3",
   "version": "3.8.3"
  }
 },
 "nbformat": 4,
 "nbformat_minor": 4
}